{
 "cells": [
  {
   "cell_type": "code",
   "execution_count": 1,
   "metadata": {},
   "outputs": [],
   "source": [
    "import pandas as pd\n",
    "from etl.etl import etl\n",
    "from gluonts.dataset.pandas import PandasDataset\n",
    "\n",
    "# from gluonts.torch import DeepAREstimator\n",
    "from gluonts.torch.model.deepar.estimator import DeepAREstimator\n",
    "from utils.utils import read_config\n",
    "\n",
    "pd.set_option(\"display.max_columns\", None)"
   ]
  },
  {
   "cell_type": "code",
   "execution_count": 2,
   "metadata": {},
   "outputs": [],
   "source": [
    "config = read_config(\"model\")"
   ]
  },
  {
   "cell_type": "code",
   "execution_count": 3,
   "metadata": {},
   "outputs": [],
   "source": [
    "df = etl()\n",
    "df_train = df[df[\"date\"] <= config[\"model\"][\"train_split\"]]\n",
    "df_test = df[df[\"date\"] > config[\"model\"][\"train_split\"]]"
   ]
  },
  {
   "cell_type": "code",
   "execution_count": 4,
   "metadata": {},
   "outputs": [
    {
     "name": "stderr",
     "output_type": "stream",
     "text": [
      "Columns ['fema_region'] in static_features have 'object' as data type and will be ignored; consider setting this to 'category' using pd.DataFrame.astype, if you wish to use them as categorical columns.\n"
     ]
    }
   ],
   "source": [
    "ds_train = PandasDataset.from_long_dataframe(\n",
    "    dataframe=df_train,\n",
    "    target=\"positive_rate\",\n",
    "    item_id=\"state_name\",\n",
    "    timestamp=\"date\",\n",
    "    static_feature_columns=[\"fema_region\"],\n",
    "    static_features=pd.DataFrame(\n",
    "        pd.Categorical(sorted(list(df_train[\"fema_region\"].unique()))),\n",
    "        columns=[\"fema_region\"],\n",
    "    ),\n",
    "    feat_dynamic_real=[\"inconclusive\", \"negative\", \"positive\"],\n",
    ")"
   ]
  },
  {
   "cell_type": "code",
   "execution_count": 5,
   "metadata": {},
   "outputs": [
    {
     "data": {
      "text/plain": [
       "[10]"
      ]
     },
     "execution_count": 5,
     "metadata": {},
     "output_type": "execute_result"
    }
   ],
   "source": [
    "[df_train[\"fema_region\"].nunique()]"
   ]
  },
  {
   "cell_type": "code",
   "execution_count": 6,
   "metadata": {},
   "outputs": [],
   "source": [
    "prediction_length = config[\"model\"][\"prediction_length\"]\n",
    "static_cat_cardinality = [df_train[\"fema_region\"].nunique()]\n",
    "\n",
    "estimator = DeepAREstimator(\n",
    "    freq=\"D\",\n",
    "    prediction_length=prediction_length,\n",
    "    num_layers=2,\n",
    "    lr=1e-3,\n",
    "    num_feat_dynamic_real=3,\n",
    "    num_feat_static_real=0,\n",
    "    num_feat_static_cat=1,\n",
    "    cardinality=static_cat_cardinality,\n",
    "    trainer_kwargs={\"accelerator\": \"mps\", \"devices\": 1, \"max_epochs\": 2},\n",
    ")"
   ]
  },
  {
   "cell_type": "code",
   "execution_count": 7,
   "metadata": {},
   "outputs": [
    {
     "data": {
      "text/plain": [
       "gluonts.torch.model.deepar.estimator.DeepAREstimator"
      ]
     },
     "execution_count": 7,
     "metadata": {},
     "output_type": "execute_result"
    }
   ],
   "source": [
    "type(estimator)"
   ]
  },
  {
   "cell_type": "code",
   "execution_count": 8,
   "metadata": {},
   "outputs": [
    {
     "name": "stderr",
     "output_type": "stream",
     "text": [
      "GPU available: True (mps), used: True\n",
      "TPU available: False, using: 0 TPU cores\n",
      "IPU available: False, using: 0 IPUs\n",
      "HPU available: False, using: 0 HPUs\n",
      "/Users/francoli/anaconda3/envs/covid-diagnostics-forecasting/lib/python3.11/site-packages/pytorch_lightning/trainer/connectors/logger_connector/logger_connector.py:67: UserWarning: Starting from v1.9.0, `tensorboardX` has been removed as a dependency of the `pytorch_lightning` package, due to potential conflicts with other packages in the ML ecosystem. For this reason, `logger=True` will use `CSVLogger` as the default logger, unless the `tensorboard` or `tensorboardX` packages are found. Please `pip install lightning[extra]` or one of them to enable TensorBoard support by default\n",
      "  warning_cache.warn(\n",
      "/Users/francoli/anaconda3/envs/covid-diagnostics-forecasting/lib/python3.11/site-packages/pytorch_lightning/trainer/configuration_validator.py:70: PossibleUserWarning: You defined a `validation_step` but have no `val_dataloader`. Skipping val loop.\n",
      "  rank_zero_warn(\n",
      "/Users/francoli/anaconda3/envs/covid-diagnostics-forecasting/lib/python3.11/site-packages/gluonts/torch/model/deepar/module.py:402: UserWarning: MPS: no support for int64 repeats mask, casting it to int32 (Triggered internally at /Users/runner/work/pytorch/pytorch/pytorch/aten/src/ATen/native/mps/operations/Repeat.mm:236.)\n",
      "  repeated_scale = scale.repeat_interleave(\n",
      "/Users/francoli/anaconda3/envs/covid-diagnostics-forecasting/lib/python3.11/site-packages/torch/distributions/gamma.py:11: UserWarning: The operator 'aten::_standard_gamma' is not currently supported on the MPS backend and will fall back to run on the CPU. This may have performance implications. (Triggered internally at /Users/runner/work/pytorch/pytorch/pytorch/aten/src/ATen/mps/MPSFallback.mm:11.)\n",
      "  return torch._standard_gamma(concentration)\n",
      "\n",
      "  | Name  | Type        | Params | In sizes | Out sizes  \n",
      "---------------------------------------------------------------\n",
      "0 | model | DeepARModel | 27.1 K | ?        | [1, 100, 7]\n",
      "---------------------------------------------------------------\n",
      "27.1 K    Trainable params\n",
      "0         Non-trainable params\n",
      "27.1 K    Total params\n",
      "0.108     Total estimated model params size (MB)\n"
     ]
    },
    {
     "name": "stdout",
     "output_type": "stream",
     "text": [
      "Epoch 0: : 50it [00:04, 10.92it/s, v_num=29, train_loss=-2.72]"
     ]
    },
    {
     "name": "stderr",
     "output_type": "stream",
     "text": [
      "Epoch 0, global step 50: 'train_loss' reached -2.72077 (best -2.72077), saving model to '/Users/francoli/Desktop/projects/covid-diagnostics-forecasting/lightning_logs/version_29/checkpoints/epoch=0-step=50.ckpt' as top 1\n"
     ]
    },
    {
     "name": "stdout",
     "output_type": "stream",
     "text": [
      "Epoch 1: : 50it [00:01, 25.77it/s, v_num=29, train_loss=-3.19]"
     ]
    },
    {
     "name": "stderr",
     "output_type": "stream",
     "text": [
      "Epoch 1, global step 100: 'train_loss' reached -3.18719 (best -3.18719), saving model to '/Users/francoli/Desktop/projects/covid-diagnostics-forecasting/lightning_logs/version_29/checkpoints/epoch=1-step=100.ckpt' as top 1\n",
      "`Trainer.fit` stopped: `max_epochs=2` reached.\n"
     ]
    },
    {
     "name": "stdout",
     "output_type": "stream",
     "text": [
      "Epoch 1: : 50it [00:01, 25.25it/s, v_num=29, train_loss=-3.19]\n"
     ]
    }
   ],
   "source": [
    "predictor = estimator.train(training_data=ds_train)"
   ]
  },
  {
   "cell_type": "code",
   "execution_count": 9,
   "metadata": {},
   "outputs": [
    {
     "data": {
      "text/plain": [
       "gluonts.torch.model.predictor.PyTorchPredictor"
      ]
     },
     "execution_count": 9,
     "metadata": {},
     "output_type": "execute_result"
    }
   ],
   "source": [
    "type(predictor)"
   ]
  }
 ],
 "metadata": {
  "kernelspec": {
   "display_name": "covid-diagnostics-forecasting",
   "language": "python",
   "name": "python3"
  },
  "language_info": {
   "codemirror_mode": {
    "name": "ipython",
    "version": 3
   },
   "file_extension": ".py",
   "mimetype": "text/x-python",
   "name": "python",
   "nbconvert_exporter": "python",
   "pygments_lexer": "ipython3",
   "version": "3.11.4"
  },
  "orig_nbformat": 4
 },
 "nbformat": 4,
 "nbformat_minor": 2
}
